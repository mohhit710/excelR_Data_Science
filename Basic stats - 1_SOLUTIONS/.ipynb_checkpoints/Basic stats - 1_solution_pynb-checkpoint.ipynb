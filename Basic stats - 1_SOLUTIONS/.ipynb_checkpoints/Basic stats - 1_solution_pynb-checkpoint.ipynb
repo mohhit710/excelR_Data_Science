{
 "cells": [
  {
   "cell_type": "code",
   "execution_count": 1,
   "id": "10004c5a",
   "metadata": {},
   "outputs": [],
   "source": [
    "import numpy as np\n",
    "import  matplotlib.pyplot as plt\n",
    "import pandas as pd"
   ]
  },
  {
   "cell_type": "code",
   "execution_count": 2,
   "id": "83844fd0",
   "metadata": {},
   "outputs": [],
   "source": [
    "sales = pd.read_csv(\"sales_data_with_discounts.csv\")"
   ]
  },
  {
   "cell_type": "code",
   "execution_count": 3,
   "id": "a8f6118e",
   "metadata": {},
   "outputs": [
    {
     "data": {
      "text/plain": [
       "City\n",
       "C    450\n",
       "Name: count, dtype: int64"
      ]
     },
     "execution_count": 3,
     "metadata": {},
     "output_type": "execute_result"
    }
   ],
   "source": [
    "sales.head(50)\n",
    "sales[\"City\"].value_counts()\n",
    "\n"
   ]
  },
  {
   "cell_type": "code",
   "execution_count": 4,
   "id": "37500adb",
   "metadata": {},
   "outputs": [
    {
     "name": "stdout",
     "output_type": "stream",
     "text": [
      "<class 'pandas.core.frame.DataFrame'>\n",
      "RangeIndex: 450 entries, 0 to 449\n",
      "Data columns (total 13 columns):\n",
      " #   Column             Non-Null Count  Dtype  \n",
      "---  ------             --------------  -----  \n",
      " 0   Date               450 non-null    object \n",
      " 1   Day                450 non-null    object \n",
      " 2   SKU                450 non-null    object \n",
      " 3   City               450 non-null    object \n",
      " 4   Volume             450 non-null    int64  \n",
      " 5   BU                 450 non-null    object \n",
      " 6   Brand              450 non-null    object \n",
      " 7   Model              450 non-null    object \n",
      " 8   Avg Price          450 non-null    int64  \n",
      " 9   Total Sales Value  450 non-null    int64  \n",
      " 10  Discount Rate (%)  450 non-null    float64\n",
      " 11  Discount Amount    450 non-null    float64\n",
      " 12  Net Sales Value    450 non-null    float64\n",
      "dtypes: float64(3), int64(3), object(7)\n",
      "memory usage: 45.8+ KB\n"
     ]
    }
   ],
   "source": [
    "sales.info()"
   ]
  },
  {
   "cell_type": "code",
   "execution_count": 5,
   "id": "dbc2698a",
   "metadata": {},
   "outputs": [
    {
     "data": {
      "text/plain": [
       "'\\nVolume\\nAvg Price\\nTotal Sales Value\\nDiscount Rate (%)\\nDiscount Amount   \\nNet Sales Value  '"
      ]
     },
     "execution_count": 5,
     "metadata": {},
     "output_type": "execute_result"
    }
   ],
   "source": [
    "#Indentification of numerical values ->\n",
    "'''\n",
    "Volume\n",
    "Avg Price\n",
    "Total Sales Value\n",
    "Discount Rate (%)\n",
    "Discount Amount   \n",
    "Net Sales Value  '''"
   ]
  },
  {
   "cell_type": "markdown",
   "id": "363884e2",
   "metadata": {},
   "source": [
    "#### Calculation of Mean Mode Median of Numerical Values"
   ]
  },
  {
   "cell_type": "code",
   "execution_count": 6,
   "id": "0b8f1ce9",
   "metadata": {},
   "outputs": [
    {
     "ename": "SyntaxError",
     "evalue": "invalid syntax (212412706.py, line 5)",
     "output_type": "error",
     "traceback": [
      "\u001b[1;36m  Cell \u001b[1;32mIn[6], line 5\u001b[1;36m\u001b[0m\n\u001b[1;33m    print(\"Mode of Avg Price = \",sales[\"Avg Price\"].mode())ś\u001b[0m\n\u001b[1;37m                                                           ^\u001b[0m\n\u001b[1;31mSyntaxError\u001b[0m\u001b[1;31m:\u001b[0m invalid syntax\n"
     ]
    }
   ],
   "source": [
    "#Avg Price\n",
    "\n",
    "print(\"Mean of Avg Price = \",sales[\"Avg Price\"].mean())\n",
    "print(\"Median of Avg Price = \",sales[\"Avg Price\"].median())\n",
    "print(\"Mode of Avg Price = \",sales[\"Avg Price\"].mode())ś\n",
    "\n"
   ]
  },
  {
   "cell_type": "code",
   "execution_count": null,
   "id": "dc904847",
   "metadata": {},
   "outputs": [],
   "source": [
    "# number of counts of mode\n",
    "\n",
    "print((sales[\"Avg Price\"] == 400).sum())\n",
    "print((sales[\"Avg Price\"] == 450).sum())"
   ]
  },
  {
   "cell_type": "code",
   "execution_count": null,
   "id": "b665689c",
   "metadata": {},
   "outputs": [],
   "source": [
    "sales[\"Avg Price\"].mode()"
   ]
  },
  {
   "cell_type": "code",
   "execution_count": null,
   "id": "cb3308cf",
   "metadata": {},
   "outputs": [],
   "source": [
    "(sales[\"Avg Price\"]==8100).sum()"
   ]
  },
  {
   "cell_type": "code",
   "execution_count": null,
   "id": "07e016f1",
   "metadata": {},
   "outputs": [],
   "source": [
    "#Total Sales Value\n",
    "\n",
    "print(\"Mean of Total Sales Value = \",sales[\"Total Sales Value\"].mean())\n",
    "print(\"Median of Total Sales Value = \",sales[\"Total Sales Value\"].median())\n",
    "print(\"Mode of Total Sales Value = \",sales[\"Total Sales Value\"].mode())\n",
    "\n",
    "print(\"The occurence of Mode Value = \",(sales[\"Total Sales Value\"] == 24300).sum())"
   ]
  },
  {
   "cell_type": "code",
   "execution_count": null,
   "id": "a215aed9",
   "metadata": {},
   "outputs": [],
   "source": [
    "# Discount rates\n",
    "print(\"Mean of Discount Rate (%) = \",sales[\"Discount Rate (%)\"].mean())\n",
    "print(\"Median of Discount Rate (%) = \",sales[\"Discount Rate (%)\"].median())\n",
    "print(\"Mode of Discount Rate (%) = \",sales[\"Discount Rate (%)\"].mode())"
   ]
  },
  {
   "cell_type": "code",
   "execution_count": null,
   "id": "fa170627",
   "metadata": {},
   "outputs": [],
   "source": [
    "(sales[\"Discount Rate (%)\"]== 19.940610).sum()"
   ]
  },
  {
   "cell_type": "code",
   "execution_count": null,
   "id": "7a6eb34c",
   "metadata": {},
   "outputs": [],
   "source": [
    "#volume\n",
    "\n",
    "print(\"The mean of Volume = \",sales[\"Volume\"].mean())\n",
    "print(\"The median of Volume = \",sales[\"Volume\"].median())\n",
    "print(\"The Mode of Volume = \",sales[\"Volume\"].mode())\n"
   ]
  },
  {
   "cell_type": "code",
   "execution_count": null,
   "id": "d08f548e",
   "metadata": {},
   "outputs": [],
   "source": [
    "# The number of occurence of mode 3\n",
    "\n",
    "Number_of_counts_mode = (sales[\"Volume\"] == 3).sum()\n",
    "Number_of_counts_mode"
   ]
  },
  {
   "cell_type": "code",
   "execution_count": null,
   "id": "f5cac648",
   "metadata": {},
   "outputs": [],
   "source": [
    "# Discount Amount\n",
    "\n",
    "print(\"The mean of Discount Amount = \",sales[\"Discount Amount\"].mean())\n",
    "print(\"The median of Discount Amount = \",sales[\"Discount Amount\"].median())\n",
    "print(\"The Mode of Discount Amount = \",sales[\"Discount Amount\"].mode())"
   ]
  },
  {
   "cell_type": "code",
   "execution_count": null,
   "id": "44df8cc7",
   "metadata": {},
   "outputs": [],
   "source": [
    "# Net Sales Value\n",
    "\n",
    "print(\"The mean of Net Sales Value = \",sales[\"Net Sales Value\"].mean())\n",
    "print(\"The median of Net Sales Value = \",sales[\"Net Sales Value\"].median())\n",
    "print(\"The Mode of Net Sales Value = \",sales[\"Net Sales Value\"].mode())\n",
    "\n"
   ]
  },
  {
   "cell_type": "code",
   "execution_count": null,
   "id": "ef087bae",
   "metadata": {},
   "outputs": [],
   "source": [
    "# standard  deviation of all values\n",
    "\n",
    "\n",
    "print(\"Std.Dev. of Volume\",sales[\"Volume\"].std())\n",
    "print(\"Std.Dev. of Avg Price\",sales[\"Avg Price\"].std())\n",
    "print(\"Std.Dev. of Total Sales Value\",sales[\"Total Sales Value\"].std())\n",
    "print(\"Std.Dev. of Discount Rate (%)\",sales[\"Discount Rate (%)\"].std())\n",
    "print(\"Std.Dev. of Discount Amount\",sales[\"Discount Amount\"].std())\n",
    "print(\"Std.Dev. of Net Sales Value\",sales[\"Net Sales Value\"].std())"
   ]
  },
  {
   "cell_type": "markdown",
   "id": "08630a64",
   "metadata": {},
   "source": [
    "## Data Visualization"
   ]
  },
  {
   "cell_type": "markdown",
   "id": "569d2b8e",
   "metadata": {},
   "source": [
    "### Histogram"
   ]
  },
  {
   "cell_type": "code",
   "execution_count": null,
   "id": "06b217d0",
   "metadata": {},
   "outputs": [],
   "source": [
    "#implementing histogram\n",
    "\n",
    "import matplotlib.pyplot as plt\n",
    "\n",
    "plt.hist(sales[\"Volume\"] , bins=20 , edgecolor=\"black\" , color=\"#797ef6\")\n",
    "\n",
    "\n",
    "\n",
    "plt.title(\"Sales Volume vs. Frequecy\", fontweight=\"bold\")\n",
    "plt.xlabel(\"Volume\")\n",
    "plt.ylabel(\"Frequecy\")\n",
    "\n",
    "plt.show()"
   ]
  },
  {
   "cell_type": "code",
   "execution_count": null,
   "id": "4a34410a",
   "metadata": {},
   "outputs": [],
   "source": [
    "print(sales[\"Volume\"].max())\n",
    "print(sales[\"Volume\"].min())"
   ]
  },
  {
   "cell_type": "code",
   "execution_count": null,
   "id": "8112d030",
   "metadata": {},
   "outputs": [],
   "source": [
    "import matplotlib.pyplot as plt\n",
    "import numpy as np\n",
    "\n",
    "# Generate some random data\n",
    "data = np.random.randn(1000)  # 1000 random numbers from a standard normal distribution\n",
    "\n",
    "# Create the histogram\n",
    "plt.hist(data, bins=30, edgecolor='black')\n",
    "\n",
    "# Label the x-axis and y-axis\n",
    "plt.xlabel = \"value\"\n",
    "plt.ylabel = \"Frequency\"\n",
    "\n",
    "# Add a title\n",
    "plt.title('Histogram of Random Data')\n",
    "\n",
    "# Display the plot\n",
    "plt.show()"
   ]
  },
  {
   "cell_type": "code",
   "execution_count": null,
   "id": "ff2c15a3",
   "metadata": {},
   "outputs": [],
   "source": [
    "import seaborn as sns\n",
    "\n",
    "hist_plot = sns.histplot(sales[\"Volume\"])\n",
    "\n",
    "hist\n",
    "\n"
   ]
  },
  {
   "cell_type": "code",
   "execution_count": null,
   "id": "e94598e8",
   "metadata": {},
   "outputs": [],
   "source": [
    "# Avg price\n",
    "\n",
    "\n",
    "plt.hist(sales[\"Avg Price\"],bins=20,edgecolor=\"black\",color=\"#effd5f\")\n",
    "\n",
    "plt.title(\"Avg. Price vs Frequency\", fontweight=\"bold\")\n",
    "plt.xlabel(\"Avg Price\")\n",
    "plt.ylabel(\"Frequency\")\n",
    "\n",
    "plt.show()\n"
   ]
  },
  {
   "cell_type": "code",
   "execution_count": null,
   "id": "24c5e3d6",
   "metadata": {},
   "outputs": [],
   "source": [
    "# total sales  value\n",
    "\n",
    "plt.hist(sales[\"Total Sales Value\"],bins=20,edgecolor=\"black\",color=\"#61a4ad\")\n",
    "\n",
    "plt.title(\"Total Sales Value vs Frequency\", fontweight=\"bold\")\n",
    "plt.xlabel(\"Total  Sales Value\")\n",
    "plt.ylabel(\"Frequency\")\n",
    "\n",
    "plt.show()\n"
   ]
  },
  {
   "cell_type": "code",
   "execution_count": null,
   "id": "2b71c843",
   "metadata": {},
   "outputs": [],
   "source": [
    "# Net Sales Value\n",
    "\n",
    "plt.hist(sales[\"Net Sales Value\"],bins=20,edgecolor=\"black\",color=\"#89cff0\")\n",
    "\n",
    "plt.title(\"Net Sales Value vs Frequency\", fontweight=\"bold\")\n",
    "plt.xlabel(\"Net Sales Value\")\n",
    "plt.ylabel(\"Frequency\")\n",
    "\n",
    "plt.show()"
   ]
  },
  {
   "cell_type": "code",
   "execution_count": null,
   "id": "65f12859",
   "metadata": {},
   "outputs": [],
   "source": [
    "'''Volume\n",
    "Avg Price\n",
    "Total Sales Value\n",
    "Discount Rate (%)\n",
    "Discount Amount   \n",
    "Net Sales Value '''"
   ]
  },
  {
   "cell_type": "code",
   "execution_count": null,
   "id": "0b38d9d8",
   "metadata": {},
   "outputs": [],
   "source": [
    "import matplotlib.pyplot as plt\n",
    "\n",
    "plt.hist(sales[\"Discount Rate (%)\"] ,bins=20,edgecolor='black',color=\"#caf1de\")\n",
    "\n",
    "plt.xlabel(\"Discount Rate (%)\")\n",
    "plt.ylabel(\"Frequency\")\n",
    "\n",
    "plt.title(\"Histogram of Discount Rate (%)\",fontweight=\"bold\")\n",
    "\n",
    "plt.show()"
   ]
  },
  {
   "cell_type": "code",
   "execution_count": null,
   "id": "636774ac",
   "metadata": {},
   "outputs": [],
   "source": [
    "sales[\"Discount Rate (%)\"].mean()\n",
    "sales[\"Discount Rate (%)\"].median()"
   ]
  },
  {
   "cell_type": "markdown",
   "id": "6d33ef9e",
   "metadata": {},
   "source": [
    "## Box- Plot"
   ]
  },
  {
   "cell_type": "code",
   "execution_count": null,
   "id": "7b8c0e40",
   "metadata": {},
   "outputs": [],
   "source": [
    "'''\n",
    "Volume\n",
    "Avg Price\n",
    "Total Sales Value\n",
    "Discount Rate (%)\n",
    "Discount Amount   \n",
    "Net Sales Value '''"
   ]
  },
  {
   "cell_type": "code",
   "execution_count": null,
   "id": "73c5b0de",
   "metadata": {},
   "outputs": [],
   "source": [
    "VolumeBox = plt.boxplot(sales[\"Volume\"])\n",
    "Q1 = np.percentile(sales[\"Volume\"],25)\n",
    "Q2 = np.percentile(sales[\"Volume\"],50)\n",
    "Q3 = np.percentile(sales[\"Volume\"],75)\n",
    "\n",
    "print(f\"Q1 : {Q1}\")\n",
    "print(f\"Q2 : {Q2}\")\n",
    "print(f\"Q3 : {Q3}\")\n",
    "plt.show()"
   ]
  },
  {
   "cell_type": "code",
   "execution_count": null,
   "id": "a3fca33d",
   "metadata": {},
   "outputs": [],
   "source": []
  },
  {
   "cell_type": "code",
   "execution_count": null,
   "id": "1cf36bde",
   "metadata": {},
   "outputs": [],
   "source": []
  },
  {
   "cell_type": "code",
   "execution_count": null,
   "id": "11faa09c",
   "metadata": {},
   "outputs": [],
   "source": [
    "import matplotlib.pyplot as plt\n",
    "import numpy as np\n",
    "\n",
    "# Sample data\n",
    "data = np.random.normal(0, 1, 100)\n",
    "\n",
    "# Create the box plot\n",
    "fig, ax = plt.subplots()\n",
    "boxplot = ax.boxplot(data)\n",
    "\n",
    "# Extract quartile values\n",
    "Q1 = boxplot['whiskers'][0].get_ydata()[1]\n",
    "Q2 = boxplot['medians'][0].get_ydata()[0]\n",
    "Q3 = boxplot['whiskers'][1].get_ydata()[0]\n",
    "\n",
    "# Annotate the quartile values\n",
    "ax.text(1.1, Q1, f'Q1: {Q1:.2f}', va='center')\n",
    "ax.text(1.1, Q2, f'Q2: {Q2:.2f}', va='center')\n",
    "ax.text(1.1, Q3, f'Q3: {Q3:.2f}', va='center')\n",
    "\n",
    "# Customize the plot\n",
    "ax.set_title('Box Plot with Quartile Values')\n",
    "ax.set_xticklabels(['Sample Data'])\n",
    "\n",
    "# Show the plot\n",
    "plt.show()\n"
   ]
  },
  {
   "cell_type": "code",
   "execution_count": null,
   "id": "d7c5a864",
   "metadata": {},
   "outputs": [],
   "source": [
    "plt.hist(data , bins=10 , edgecolor=\"black\", color=\"green\")\n"
   ]
  },
  {
   "cell_type": "code",
   "execution_count": null,
   "id": "1d8418f4",
   "metadata": {},
   "outputs": [],
   "source": [
    "#Volume BoxPlot\n",
    "\n",
    "plt.boxplot(sales[\"Volume\"])\n",
    "plt.ylabel(\"counts\")\n",
    "plt.xticks([1],[\"Volume\"])\n",
    "plt.show()"
   ]
  },
  {
   "cell_type": "code",
   "execution_count": null,
   "id": "e0a8395c",
   "metadata": {},
   "outputs": [],
   "source": [
    "#  Avg Price Boxplot\n",
    "\n",
    "plt.boxplot(sales[\"Avg Price\"])\n",
    "plt.ylabel(\"Counts\")\n",
    "plt.xticks([1],[\"Avg price\"])\n",
    "plt.show()"
   ]
  },
  {
   "cell_type": "code",
   "execution_count": null,
   "id": "86d286f5",
   "metadata": {},
   "outputs": [],
   "source": [
    "# Total Sales Value\n",
    "plt.boxplot(sales[\"Total Sales Value\"])\n",
    "plt.ylabel(\"Counts\")\n",
    "plt.xticks([1],[\"Total Sales Value\"])\n",
    "plt.show()"
   ]
  },
  {
   "cell_type": "code",
   "execution_count": null,
   "id": "981dedd8",
   "metadata": {},
   "outputs": [],
   "source": [
    "# Net Sales Value boxplot\n",
    "\n",
    "plt.boxplot(sales[\"Net Sales Value\"])\n",
    "plt.ylabel(\"Counts\")\n",
    "plt.xticks([1],[\"Net Sales Value\"])\n",
    "plt.show()"
   ]
  },
  {
   "cell_type": "code",
   "execution_count": null,
   "id": "ed485069",
   "metadata": {},
   "outputs": [],
   "source": [
    "#Discount Rate (%) boxplot\n",
    "\n",
    "plt.boxplot(sales[\"Discount Rate (%)\"])\n",
    "plt.ylabel(\"Counts\")\n",
    "plt.xticks([1],[\"Discount Rate (%)\"])\n",
    "plt.show()"
   ]
  },
  {
   "cell_type": "code",
   "execution_count": null,
   "id": "5e75f30b",
   "metadata": {},
   "outputs": [],
   "source": [
    "plt.hist(sales[\"Discount Amount\"] , bins=20 , edgecolor=\"black\", color=\"#c551ef\")\n",
    "plt.xlabel(\"Discount Amount\")\n",
    "plt.ylabel(\"frequency\")\n",
    "plt.title(\"histogram of Discount Amount\")\n",
    "plt.show()"
   ]
  },
  {
   "cell_type": "code",
   "execution_count": null,
   "id": "cf4499b4",
   "metadata": {},
   "outputs": [],
   "source": [
    "#box plot of discount Amount\n",
    "\n",
    "plt.boxplot(sales[\"Discount Amount\"])\n",
    "plt.ylabel(\"Counts\")\n",
    "plt.xticks([1],[\"Dicount Amount\"])\n",
    "\n",
    "plt.show()"
   ]
  },
  {
   "cell_type": "code",
   "execution_count": null,
   "id": "f1ba7c1b",
   "metadata": {},
   "outputs": [],
   "source": [
    "#sales[\"Brand\"].describe()\n",
    "\n",
    "sales[\"Brand\"].info()\n",
    "\n",
    "\n"
   ]
  },
  {
   "cell_type": "code",
   "execution_count": null,
   "id": "f89452c8",
   "metadata": {
    "scrolled": true
   },
   "outputs": [],
   "source": [
    "sales.info()"
   ]
  },
  {
   "cell_type": "code",
   "execution_count": null,
   "id": "e859d613",
   "metadata": {},
   "outputs": [],
   "source": [
    "date = sales[\"Date\"]\n",
    "\n",
    "\n",
    "print(date.value_counts())"
   ]
  },
  {
   "cell_type": "code",
   "execution_count": null,
   "id": "925b49ef",
   "metadata": {},
   "outputs": [],
   "source": [
    "print(date[0],date[449])"
   ]
  },
  {
   "cell_type": "code",
   "execution_count": null,
   "id": "1f811ce1",
   "metadata": {},
   "outputs": [],
   "source": [
    "sku = sales[\"SKU\"]\n",
    "brand = sales[\"Brand\"]\n",
    "value = sku.value_counts()\n",
    "plt.bar(brand  , sku)"
   ]
  },
  {
   "cell_type": "code",
   "execution_count": null,
   "id": "a3d7027b",
   "metadata": {},
   "outputs": [],
   "source": [
    "sku.describe()\n",
    "sku_count = sku.value_counts()\n",
    "#print(sku_count)\n",
    "sku_count.plot(kind=\"bar\")"
   ]
  },
  {
   "cell_type": "code",
   "execution_count": null,
   "id": "0006e887",
   "metadata": {},
   "outputs": [],
   "source": [
    "city = sales[\"City\"]\n",
    "city.describe()\n",
    "city.value_counts()\n"
   ]
  },
  {
   "cell_type": "code",
   "execution_count": null,
   "id": "fe2a935a",
   "metadata": {},
   "outputs": [],
   "source": [
    "BU = sales[\"BU\"]\n",
    "\n",
    "BU.describe()\n",
    "BU_value = BU.value_counts()\n",
    "print(BU_value)\n",
    "BU_value.plot(kind=\"bar\")"
   ]
  },
  {
   "cell_type": "code",
   "execution_count": null,
   "id": "9018b4ff",
   "metadata": {},
   "outputs": [],
   "source": [
    "brand = sales[\"Brand\"]\n",
    "\n",
    "brand.describe()\n",
    "brand.unique()\n",
    "brand.describe()\n",
    "brand_value = brand.value_counts()\n",
    "brand_value\n"
   ]
  },
  {
   "cell_type": "code",
   "execution_count": null,
   "id": "c1241cd7",
   "metadata": {},
   "outputs": [],
   "source": [
    "model = sales[\"Model\"]\n",
    "model.describe()\n",
    "model.unique()"
   ]
  },
  {
   "cell_type": "code",
   "execution_count": null,
   "id": "27126ed5",
   "metadata": {},
   "outputs": [],
   "source": [
    "values = brand.value_counts()\n",
    "print(values)\n",
    "values.plot(kind=\"bar\")"
   ]
  },
  {
   "cell_type": "code",
   "execution_count": null,
   "id": "6eab22dc",
   "metadata": {},
   "outputs": [],
   "source": []
  }
 ],
 "metadata": {
  "kernelspec": {
   "display_name": "Python 3 (ipykernel)",
   "language": "python",
   "name": "python3"
  },
  "language_info": {
   "codemirror_mode": {
    "name": "ipython",
    "version": 3
   },
   "file_extension": ".py",
   "mimetype": "text/x-python",
   "name": "python",
   "nbconvert_exporter": "python",
   "pygments_lexer": "ipython3",
   "version": "3.11.7"
  }
 },
 "nbformat": 4,
 "nbformat_minor": 5
}
