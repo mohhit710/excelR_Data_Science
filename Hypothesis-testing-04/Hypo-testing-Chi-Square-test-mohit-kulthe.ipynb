{
 "cells": [
  {
   "cell_type": "markdown",
   "id": "355ce4f5",
   "metadata": {},
   "source": [
    "Chi-Sqaure-test"
   ]
  },
  {
   "cell_type": "code",
   "execution_count": 1,
   "id": "0eafda2c",
   "metadata": {},
   "outputs": [
    {
     "data": {
      "text/html": [
       "<div>\n",
       "<style scoped>\n",
       "    .dataframe tbody tr th:only-of-type {\n",
       "        vertical-align: middle;\n",
       "    }\n",
       "\n",
       "    .dataframe tbody tr th {\n",
       "        vertical-align: top;\n",
       "    }\n",
       "\n",
       "    .dataframe thead th {\n",
       "        text-align: right;\n",
       "    }\n",
       "</style>\n",
       "<table border=\"1\" class=\"dataframe\">\n",
       "  <thead>\n",
       "    <tr style=\"text-align: right;\">\n",
       "      <th></th>\n",
       "      <th>Level</th>\n",
       "      <th>Smart-thermostat</th>\n",
       "      <th>Smart-light</th>\n",
       "      <th>total</th>\n",
       "    </tr>\n",
       "  </thead>\n",
       "  <tbody>\n",
       "    <tr>\n",
       "      <th>0</th>\n",
       "      <td>Very Satisfied</td>\n",
       "      <td>50</td>\n",
       "      <td>70</td>\n",
       "      <td>120</td>\n",
       "    </tr>\n",
       "    <tr>\n",
       "      <th>1</th>\n",
       "      <td>Satisfied</td>\n",
       "      <td>80</td>\n",
       "      <td>100</td>\n",
       "      <td>180</td>\n",
       "    </tr>\n",
       "    <tr>\n",
       "      <th>2</th>\n",
       "      <td>Neutral</td>\n",
       "      <td>60</td>\n",
       "      <td>90</td>\n",
       "      <td>150</td>\n",
       "    </tr>\n",
       "    <tr>\n",
       "      <th>3</th>\n",
       "      <td>Unsatisfied</td>\n",
       "      <td>30</td>\n",
       "      <td>50</td>\n",
       "      <td>80</td>\n",
       "    </tr>\n",
       "    <tr>\n",
       "      <th>4</th>\n",
       "      <td>Very Unsatisfied</td>\n",
       "      <td>20</td>\n",
       "      <td>50</td>\n",
       "      <td>70</td>\n",
       "    </tr>\n",
       "  </tbody>\n",
       "</table>\n",
       "</div>"
      ],
      "text/plain": [
       "              Level  Smart-thermostat  Smart-light  total\n",
       "0    Very Satisfied                50           70    120\n",
       "1         Satisfied                80          100    180\n",
       "2           Neutral                60           90    150\n",
       "3       Unsatisfied                30           50     80\n",
       "4  Very Unsatisfied                20           50     70"
      ]
     },
     "execution_count": 1,
     "metadata": {},
     "output_type": "execute_result"
    }
   ],
   "source": [
    "#step-1 : creation of the data-table for calculation\n",
    "\n",
    "import numpy as np\n",
    "import pandas as pd\n",
    "\n",
    "data ={ \"Level\":[\"Very Satisfied\",\"Satisfied\",\"Neutral\",\"Unsatisfied\",\"Very Unsatisfied\"],\n",
    "        \"Smart-thermostat\":[50,80,60,30,20],\n",
    "        \"Smart-light\":[70,100,90,50,50]\n",
    "      }\n",
    "\n",
    "df = pd.DataFrame(data)\n",
    "\n",
    "df[\"total\"] = df[\"Smart-thermostat\"] + df[\"Smart-light\"]\n",
    "\n",
    "df"
   ]
  },
  {
   "cell_type": "markdown",
   "id": "6aad5c87",
   "metadata": {},
   "source": [
    "### calculation of total number of customer"
   ]
  },
  {
   "cell_type": "code",
   "execution_count": 3,
   "id": "8c69ddda",
   "metadata": {},
   "outputs": [
    {
     "name": "stdout",
     "output_type": "stream",
     "text": [
      "Total-Smart-Thermostat = 240 : Total-Smart-Light = 360 : Total = 600\n"
     ]
    }
   ],
   "source": [
    "#step2 : calculation of total number of customer\n",
    "\n",
    "total_Sthermo = df[\"Smart-thermostat\"].sum()\n",
    "\n",
    "total_Slight = df[\"Smart-light\"].sum()\n",
    "\n",
    "total_customer = df[\"total\"].sum()\n",
    "\n",
    "print(f\"Total-Smart-Thermostat = {total_Sthermo} : Total-Smart-Light = {total_Slight} : Total = {total_customer}\")\n"
   ]
  },
  {
   "cell_type": "markdown",
   "id": "c6891300",
   "metadata": {},
   "source": [
    "###  calculation of Expected Values"
   ]
  },
  {
   "cell_type": "code",
   "execution_count": 28,
   "id": "53754587",
   "metadata": {},
   "outputs": [
    {
     "name": "stdout",
     "output_type": "stream",
     "text": [
      "Expected Values for the table\n"
     ]
    },
    {
     "data": {
      "text/html": [
       "<div>\n",
       "<style scoped>\n",
       "    .dataframe tbody tr th:only-of-type {\n",
       "        vertical-align: middle;\n",
       "    }\n",
       "\n",
       "    .dataframe tbody tr th {\n",
       "        vertical-align: top;\n",
       "    }\n",
       "\n",
       "    .dataframe thead th {\n",
       "        text-align: right;\n",
       "    }\n",
       "</style>\n",
       "<table border=\"1\" class=\"dataframe\">\n",
       "  <thead>\n",
       "    <tr style=\"text-align: right;\">\n",
       "      <th></th>\n",
       "      <th>Level</th>\n",
       "      <th>Smart-thermostat</th>\n",
       "      <th>Smart-light</th>\n",
       "      <th>total</th>\n",
       "    </tr>\n",
       "  </thead>\n",
       "  <tbody>\n",
       "    <tr>\n",
       "      <th>0</th>\n",
       "      <td>Very Satisfied</td>\n",
       "      <td>48.0</td>\n",
       "      <td>72.0</td>\n",
       "      <td>120</td>\n",
       "    </tr>\n",
       "    <tr>\n",
       "      <th>1</th>\n",
       "      <td>Satisfied</td>\n",
       "      <td>72.0</td>\n",
       "      <td>108.0</td>\n",
       "      <td>180</td>\n",
       "    </tr>\n",
       "    <tr>\n",
       "      <th>2</th>\n",
       "      <td>Neutral</td>\n",
       "      <td>60.0</td>\n",
       "      <td>90.0</td>\n",
       "      <td>150</td>\n",
       "    </tr>\n",
       "    <tr>\n",
       "      <th>3</th>\n",
       "      <td>Unsatisfied</td>\n",
       "      <td>32.0</td>\n",
       "      <td>48.0</td>\n",
       "      <td>80</td>\n",
       "    </tr>\n",
       "    <tr>\n",
       "      <th>4</th>\n",
       "      <td>Very Unsatisfied</td>\n",
       "      <td>28.0</td>\n",
       "      <td>42.0</td>\n",
       "      <td>70</td>\n",
       "    </tr>\n",
       "  </tbody>\n",
       "</table>\n",
       "</div>"
      ],
      "text/plain": [
       "              Level  Smart-thermostat  Smart-light  total\n",
       "0    Very Satisfied              48.0         72.0    120\n",
       "1         Satisfied              72.0        108.0    180\n",
       "2           Neutral              60.0         90.0    150\n",
       "3       Unsatisfied              32.0         48.0     80\n",
       "4  Very Unsatisfied              28.0         42.0     70"
      ]
     },
     "execution_count": 28,
     "metadata": {},
     "output_type": "execute_result"
    }
   ],
   "source": [
    "# calculation of Expected Values\n",
    "\n",
    "exp_df  = df.copy()\n",
    "exp_df[\"Smart-thermostat\"] = (total_Sthermo * exp_df[\"total\"] ) / total_customer\n",
    "exp_df[\"Smart-light\"] = (total_Slight * exp_df[\"total\"] ) / total_customer\n",
    "\n",
    "print(\"Expected Values for the table\")\n",
    "exp_df"
   ]
  },
  {
   "cell_type": "markdown",
   "id": "69fe8fe9",
   "metadata": {},
   "source": [
    "### Calculation of chi-square statistics"
   ]
  },
  {
   "cell_type": "code",
   "execution_count": 33,
   "id": "43b5b64e",
   "metadata": {},
   "outputs": [
    {
     "name": "stdout",
     "output_type": "stream",
     "text": [
      "The Chi-Square value of table\n"
     ]
    },
    {
     "data": {
      "text/html": [
       "<div>\n",
       "<style scoped>\n",
       "    .dataframe tbody tr th:only-of-type {\n",
       "        vertical-align: middle;\n",
       "    }\n",
       "\n",
       "    .dataframe tbody tr th {\n",
       "        vertical-align: top;\n",
       "    }\n",
       "\n",
       "    .dataframe thead th {\n",
       "        text-align: right;\n",
       "    }\n",
       "</style>\n",
       "<table border=\"1\" class=\"dataframe\">\n",
       "  <thead>\n",
       "    <tr style=\"text-align: right;\">\n",
       "      <th></th>\n",
       "      <th>Level</th>\n",
       "      <th>Smart-thermostat</th>\n",
       "      <th>Smart-light</th>\n",
       "      <th>total</th>\n",
       "    </tr>\n",
       "  </thead>\n",
       "  <tbody>\n",
       "    <tr>\n",
       "      <th>0</th>\n",
       "      <td>Very Satisfied</td>\n",
       "      <td>0.083333</td>\n",
       "      <td>0.055556</td>\n",
       "      <td>120</td>\n",
       "    </tr>\n",
       "    <tr>\n",
       "      <th>1</th>\n",
       "      <td>Satisfied</td>\n",
       "      <td>0.888889</td>\n",
       "      <td>0.592593</td>\n",
       "      <td>180</td>\n",
       "    </tr>\n",
       "    <tr>\n",
       "      <th>2</th>\n",
       "      <td>Neutral</td>\n",
       "      <td>0.000000</td>\n",
       "      <td>0.000000</td>\n",
       "      <td>150</td>\n",
       "    </tr>\n",
       "    <tr>\n",
       "      <th>3</th>\n",
       "      <td>Unsatisfied</td>\n",
       "      <td>0.125000</td>\n",
       "      <td>0.083333</td>\n",
       "      <td>80</td>\n",
       "    </tr>\n",
       "    <tr>\n",
       "      <th>4</th>\n",
       "      <td>Very Unsatisfied</td>\n",
       "      <td>2.285714</td>\n",
       "      <td>1.523810</td>\n",
       "      <td>70</td>\n",
       "    </tr>\n",
       "  </tbody>\n",
       "</table>\n",
       "</div>"
      ],
      "text/plain": [
       "              Level  Smart-thermostat  Smart-light  total\n",
       "0    Very Satisfied          0.083333     0.055556    120\n",
       "1         Satisfied          0.888889     0.592593    180\n",
       "2           Neutral          0.000000     0.000000    150\n",
       "3       Unsatisfied          0.125000     0.083333     80\n",
       "4  Very Unsatisfied          2.285714     1.523810     70"
      ]
     },
     "execution_count": 33,
     "metadata": {},
     "output_type": "execute_result"
    }
   ],
   "source": [
    "# Calculation of chi-square statistics\n",
    "# chi-stat = [(Observed_value - Expected_value)^2] / Expected_value\n",
    "\n",
    "chi_df = df.copy()\n",
    "\n",
    "chi_df[\"Smart-thermostat\"] = ((df['Smart-thermostat']-exp_df['Smart-thermostat'])**2)/exp_df['Smart-thermostat']\n",
    "chi_df[\"Smart-light\"] = ((df['Smart-light']-exp_df['Smart-light'])**2)/exp_df['Smart-light']\n",
    "\n",
    "\n",
    "\n",
    "print(\"The Chi-Square value of table\")\n",
    "chi_df\n",
    "\n"
   ]
  },
  {
   "cell_type": "code",
   "execution_count": 34,
   "id": "99a42d4a",
   "metadata": {},
   "outputs": [
    {
     "name": "stdout",
     "output_type": "stream",
     "text": [
      "Chi-Square Statistics = 5.638227513227513\n"
     ]
    }
   ],
   "source": [
    "# Calculation of Chi-Squre statistics\n",
    "\n",
    "chi_stat = chi_df[\"Smart-thermostat\"].sum() + chi_df[\"Smart-light\"].sum()\n",
    "\n",
    "print(f\"Chi-Square Statistics = {chi_stat}\")"
   ]
  },
  {
   "cell_type": "code",
   "execution_count": 37,
   "id": "7ed4f517",
   "metadata": {},
   "outputs": [
    {
     "name": "stdout",
     "output_type": "stream",
     "text": [
      "Degree of Freedom (DOF) = 4\n"
     ]
    }
   ],
   "source": [
    "# degree of Freedom\n",
    "\n",
    "rows = 5\n",
    "cols = 2\n",
    "\n",
    "dof = (rows-1)*(cols-1)\n",
    "\n",
    "print(f\"Degree of Freedom (DOF) = {dof}\")\n"
   ]
  },
  {
   "cell_type": "markdown",
   "id": "ca232c88",
   "metadata": {},
   "source": [
    "### Solution using python scipy library"
   ]
  },
  {
   "cell_type": "code",
   "execution_count": 21,
   "id": "7b5ff305",
   "metadata": {},
   "outputs": [
    {
     "name": "stdout",
     "output_type": "stream",
     "text": [
      "   Smart-thermostat  Smart-light\n",
      "0                50           70\n",
      "1                80          100\n",
      "2                60           90\n",
      "3                30           50\n",
      "4                20           50 \n",
      "\n",
      "chi_stat value = 5.638227513227513\n",
      "p_value = 0.22784371130697179\n",
      "dof = 4\n",
      "expected values = \n",
      "[[ 48.  72.]\n",
      " [ 72. 108.]\n",
      " [ 60.  90.]\n",
      " [ 32.  48.]\n",
      " [ 28.  42.]]\n"
     ]
    }
   ],
   "source": [
    "from scipy.stats import chi2_contingency\n",
    "\n",
    "dataset = df.iloc[:,1:3]\n",
    "\n",
    "print(dataset,\"\\n\")\n",
    "\n",
    "chi_stat , p_value , dof , exp = chi2_contingency(dataset)\n",
    "\n",
    "print(f\"chi_stat value = {chi_stat}\")\n",
    "print(f\"p_value = {p_value}\")\n",
    "print(f\"dof = {dof}\")\n",
    "print(f\"expected values = \\n{exp}\")"
   ]
  },
  {
   "cell_type": "code",
   "execution_count": 18,
   "id": "741f1bad",
   "metadata": {},
   "outputs": [
    {
     "name": "stdout",
     "output_type": "stream",
     "text": [
      "We don't have enough confidence to reject the null hypothesis\n"
     ]
    }
   ],
   "source": [
    "# Decision Making\n",
    "\n",
    "significance_level = 0.05\n",
    "if (p_value > significance_level):\n",
    "    print(\"We don't have enough confidence to reject the null hypothesis\")\n",
    "else:\n",
    "    print(\"We can reject null hypothesis\")"
   ]
  }
 ],
 "metadata": {
  "kernelspec": {
   "display_name": "Python 3 (ipykernel)",
   "language": "python",
   "name": "python3"
  },
  "language_info": {
   "codemirror_mode": {
    "name": "ipython",
    "version": 3
   },
   "file_extension": ".py",
   "mimetype": "text/x-python",
   "name": "python",
   "nbconvert_exporter": "python",
   "pygments_lexer": "ipython3",
   "version": "3.11.7"
  }
 },
 "nbformat": 4,
 "nbformat_minor": 5
}
