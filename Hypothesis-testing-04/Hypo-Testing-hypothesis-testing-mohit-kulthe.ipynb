{
 "cells": [
  {
   "cell_type": "markdown",
   "id": "b2c42dbb",
   "metadata": {},
   "source": [
    "### Hypothesis Testing for restaurant"
   ]
  },
  {
   "cell_type": "code",
   "execution_count": 2,
   "id": "bf0972ea",
   "metadata": {},
   "outputs": [
    {
     "data": {
      "text/plain": [
       "-38.0"
      ]
     },
     "execution_count": 2,
     "metadata": {},
     "output_type": "execute_result"
    }
   ],
   "source": [
    "#model_eq = 1000 + 5(X)\n",
    "#calculation of t-stats\n",
    "\n",
    "sample_mean = 3050\n",
    "population_mean = 1000 + 5*(600)\n",
    "std_dev = 25*5 \n",
    "sample_size = 25\n",
    "\n",
    "\n",
    "t_stat = (sample_mean - population_mean) / (std_dev/(sample_size)**0.5)\n",
    "t_stat"
   ]
  },
  {
   "cell_type": "code",
   "execution_count": 15,
   "id": "535a6d5f",
   "metadata": {},
   "outputs": [
    {
     "data": {
      "text/plain": [
       "24"
      ]
     },
     "execution_count": 15,
     "metadata": {},
     "output_type": "execute_result"
    }
   ],
   "source": [
    "# calculation of dof\n",
    "dof = sample_size - 1\n",
    "dof"
   ]
  },
  {
   "cell_type": "code",
   "execution_count": 17,
   "id": "187a2e23",
   "metadata": {},
   "outputs": [],
   "source": [
    "#critical value for dof=24 and alpha = 0.05 from t-table\n",
    "alpha = 0.05\n",
    "critical_value = 1.71"
   ]
  },
  {
   "cell_type": "code",
   "execution_count": null,
   "id": "954c9569",
   "metadata": {},
   "outputs": [],
   "source": []
  },
  {
   "cell_type": "code",
   "execution_count": null,
   "id": "7e942a87",
   "metadata": {},
   "outputs": [],
   "source": []
  }
 ],
 "metadata": {
  "kernelspec": {
   "display_name": "Python 3 (ipykernel)",
   "language": "python",
   "name": "python3"
  },
  "language_info": {
   "codemirror_mode": {
    "name": "ipython",
    "version": 3
   },
   "file_extension": ".py",
   "mimetype": "text/x-python",
   "name": "python",
   "nbconvert_exporter": "python",
   "pygments_lexer": "ipython3",
   "version": "3.11.7"
  }
 },
 "nbformat": 4,
 "nbformat_minor": 5
}
