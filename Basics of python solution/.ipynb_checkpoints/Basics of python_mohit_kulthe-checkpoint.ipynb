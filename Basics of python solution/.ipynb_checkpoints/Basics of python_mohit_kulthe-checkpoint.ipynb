{
 "cells": [
  {
   "cell_type": "markdown",
   "id": "30a205e9",
   "metadata": {},
   "source": [
    "Prime Number Detection"
   ]
  },
  {
   "cell_type": "code",
   "execution_count": null,
   "id": "172147bb",
   "metadata": {},
   "outputs": [],
   "source": [
    "# define function which return if number is prime\n",
    "\n",
    "def IsPrime(n):\n",
    "    if n<=1:\n",
    "        return False\n",
    "    for i in range(2,int(n**0.5 + 1)): \n",
    "        if(n%i == 0):\n",
    "            return False\n",
    "    return True\n",
    "\n",
    "result = IsPrime(1000)\n",
    "\n",
    "if(result):\n",
    "    print(\"The number is Prime\")\n",
    "else:\n",
    "    print(\"The number is not Prime\")\n",
    "        "
   ]
  },
  {
   "cell_type": "markdown",
   "id": "b17f6fde",
   "metadata": {},
   "source": [
    "Product of two random Number"
   ]
  },
  {
   "cell_type": "code",
   "execution_count": null,
   "id": "86af370b",
   "metadata": {},
   "outputs": [],
   "source": [
    "print(\"mohit\")\n",
    "n = input(\"enter the number\")\n",
    "print(n)"
   ]
  },
  {
   "cell_type": "code",
   "execution_count": 38,
   "id": "fa8b0057",
   "metadata": {},
   "outputs": [
    {
     "name": "stdout",
     "output_type": "stream",
     "text": [
      "Tell me the product of  4 and 9\n",
      "232\n",
      "Incorrect\n"
     ]
    }
   ],
   "source": [
    "import random\n",
    "n1 = random.randint(1,10)\n",
    "n2 = random.randint(1,10)\n",
    "product = n1*n2\n",
    "\n",
    "print(\"Tell me the product of \",n1 , \"and\" , n2)\n",
    "\n",
    "ans = int(input())\n",
    "\n",
    "if(ans==product):\n",
    "    print(\"Correct\")\n",
    "else:\n",
    "    print(\"Incorrect\")\n",
    "\n",
    "\n",
    "    "
   ]
  },
  {
   "cell_type": "code",
   "execution_count": 1,
   "id": "33167a2f",
   "metadata": {},
   "outputs": [
    {
     "name": "stdout",
     "output_type": "stream",
     "text": [
      "100 10000\n",
      "102 10404\n",
      "104 10816\n",
      "106 11236\n",
      "108 11664\n",
      "110 12100\n",
      "112 12544\n",
      "114 12996\n",
      "116 13456\n",
      "118 13924\n",
      "120 14400\n",
      "122 14884\n",
      "124 15376\n",
      "126 15876\n",
      "128 16384\n",
      "130 16900\n",
      "132 17424\n",
      "134 17956\n",
      "136 18496\n",
      "138 19044\n",
      "140 19600\n",
      "142 20164\n",
      "144 20736\n",
      "146 21316\n",
      "148 21904\n",
      "150 22500\n",
      "152 23104\n",
      "154 23716\n",
      "156 24336\n",
      "158 24964\n",
      "160 25600\n",
      "162 26244\n",
      "164 26896\n",
      "166 27556\n",
      "168 28224\n",
      "170 28900\n",
      "172 29584\n",
      "174 30276\n",
      "176 30976\n",
      "178 31684\n",
      "180 32400\n",
      "182 33124\n",
      "184 33856\n",
      "186 34596\n",
      "188 35344\n",
      "190 36100\n",
      "192 36864\n",
      "194 37636\n",
      "196 38416\n",
      "198 39204\n",
      "200 40000\n"
     ]
    }
   ],
   "source": [
    "for i in range(100,201,2):\n",
    "    print(i , i*i)\n",
    "    "
   ]
  },
  {
   "cell_type": "markdown",
   "id": "18206f59",
   "metadata": {},
   "source": [
    "Count words in the given text"
   ]
  },
  {
   "cell_type": "code",
   "execution_count": 12,
   "id": "501a417e",
   "metadata": {},
   "outputs": [
    {
     "name": "stdout",
     "output_type": "stream",
     "text": [
      "3\n"
     ]
    }
   ],
   "source": [
    "text = \"This is cat \"\n",
    "\n",
    "word_count = 0\n",
    "\n",
    "words = text.split()\n",
    "\n",
    "for word in words:\n",
    "    word_count = word_count + 1\n",
    "\n",
    "print(word_count)\n",
    "    \n",
    "\n"
   ]
  },
  {
   "cell_type": "markdown",
   "id": "96893b21",
   "metadata": {},
   "source": [
    "Palindrome Number Identification"
   ]
  },
  {
   "cell_type": "code",
   "execution_count": 33,
   "id": "42656e00",
   "metadata": {},
   "outputs": [
    {
     "name": "stdout",
     "output_type": "stream",
     "text": [
      "False\n"
     ]
    }
   ],
   "source": [
    "word = \"mohi\"\n",
    "\n",
    "rev_word = word[::-1]\n",
    "\n",
    "if(word == rev_word):\n",
    "    print(True)\n",
    "else:\n",
    "    print(False)\n",
    "    "
   ]
  }
 ],
 "metadata": {
  "kernelspec": {
   "display_name": "Python 3 (ipykernel)",
   "language": "python",
   "name": "python3"
  },
  "language_info": {
   "codemirror_mode": {
    "name": "ipython",
    "version": 3
   },
   "file_extension": ".py",
   "mimetype": "text/x-python",
   "name": "python",
   "nbconvert_exporter": "python",
   "pygments_lexer": "ipython3",
   "version": "3.11.7"
  }
 },
 "nbformat": 4,
 "nbformat_minor": 5
}
