{
 "cells": [
  {
   "cell_type": "code",
   "execution_count": 2,
   "id": "a2d4f44c",
   "metadata": {},
   "outputs": [],
   "source": [
    "import numpy as np\n",
    "import pandas as pd"
   ]
  },
  {
   "cell_type": "code",
   "execution_count": 3,
   "id": "30328b5d",
   "metadata": {},
   "outputs": [
    {
     "data": {
      "text/plain": [
       "array([1.13, 1.55, 1.43, 0.92, 1.25, 1.36, 1.32, 0.85, 1.07, 1.48, 1.2 ,\n",
       "       1.33, 1.18, 1.22, 1.29])"
      ]
     },
     "execution_count": 3,
     "metadata": {},
     "output_type": "execute_result"
    }
   ],
   "source": [
    "sample_data = np.array([1.13, 1.55, 1.43, 0.92, 1.25, 1.36, 1.32, 0.85, 1.07, 1.48, 1.20, 1.33, 1.18, 1.22, 1.29])\n",
    "sample_data"
   ]
  },
  {
   "cell_type": "code",
   "execution_count": 4,
   "id": "c87194f9",
   "metadata": {},
   "outputs": [
    {
     "name": "stdout",
     "output_type": "stream",
     "text": [
      "1.2386666666666666\n"
     ]
    }
   ],
   "source": [
    "mean = sample_data.mean()\n",
    "print(mean)"
   ]
  },
  {
   "cell_type": "code",
   "execution_count": 5,
   "id": "df9b09c6",
   "metadata": {},
   "outputs": [
    {
     "name": "stdout",
     "output_type": "stream",
     "text": [
      "0.18661427836285438\n"
     ]
    }
   ],
   "source": [
    "std_dev = sample_data.std()\n",
    "print(std_dev)"
   ]
  },
  {
   "cell_type": "code",
   "execution_count": 6,
   "id": "cdcd0306",
   "metadata": {},
   "outputs": [
    {
     "name": "stdout",
     "output_type": "stream",
     "text": [
      "n = 15\n",
      "dof = 14\n"
     ]
    }
   ],
   "source": [
    "#finding critical value for confidence interval\n",
    "\n",
    "confidence_interval = 0.99\n",
    "\n",
    "n = len(sample_data)\n",
    "dof = n-1\n",
    "\n",
    "print(f\"n = {n}\")\n",
    "print(f\"dof = {dof}\")"
   ]
  },
  {
   "cell_type": "code",
   "execution_count": 7,
   "id": "faeff488",
   "metadata": {},
   "outputs": [
    {
     "data": {
      "text/plain": [
       "0.0050000000000000044"
      ]
     },
     "execution_count": 7,
     "metadata": {},
     "output_type": "execute_result"
    }
   ],
   "source": [
    "(1-.99)/2"
   ]
  },
  {
   "cell_type": "code",
   "execution_count": 12,
   "id": "510f2bff",
   "metadata": {},
   "outputs": [
    {
     "data": {
      "text/plain": [
       "[1.0955613761984242, 1.381771957134909]"
      ]
     },
     "execution_count": 12,
     "metadata": {},
     "output_type": "execute_result"
    }
   ],
   "source": [
    "critical_value = 2.97\n",
    "\n",
    "std_error = std_dev / np.sqrt(n)\n",
    "\n",
    "margin_of_error = critical_value * std_error\n",
    "\n",
    "\n",
    "confidence_interval_lower = mean - margin_of_error\n",
    "confidence_interval_upper = mean + margin_of_error\n",
    "\n",
    "confidence_interval_range = [confidence_interval_lower , confidence_interval_upper]\n",
    "confidence_interval_range"
   ]
  },
  {
   "cell_type": "code",
   "execution_count": 16,
   "id": "6d2d1c5f",
   "metadata": {},
   "outputs": [
    {
     "data": {
      "text/plain": [
       "1.3727142293300407"
      ]
     },
     "execution_count": 16,
     "metadata": {},
     "output_type": "execute_result"
    }
   ],
   "source": [
    "1.24 + 2.57 * (0.2/np.sqrt(15))"
   ]
  },
  {
   "cell_type": "code",
   "execution_count": 18,
   "id": "370948e2",
   "metadata": {},
   "outputs": [
    {
     "data": {
      "text/plain": [
       "1.1072857706699593"
      ]
     },
     "execution_count": 18,
     "metadata": {},
     "output_type": "execute_result"
    }
   ],
   "source": [
    "1.24 - 2.57 * (0.2/np.sqrt(15))"
   ]
  }
 ],
 "metadata": {
  "kernelspec": {
   "display_name": "Python 3 (ipykernel)",
   "language": "python",
   "name": "python3"
  },
  "language_info": {
   "codemirror_mode": {
    "name": "ipython",
    "version": 3
   },
   "file_extension": ".py",
   "mimetype": "text/x-python",
   "name": "python",
   "nbconvert_exporter": "python",
   "pygments_lexer": "ipython3",
   "version": "3.11.7"
  }
 },
 "nbformat": 4,
 "nbformat_minor": 5
}
